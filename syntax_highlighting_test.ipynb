{
 "cells": [
  {
   "cell_type": "code",
   "execution_count": 4,
   "metadata": {},
   "outputs": [],
   "source": [
    "from pygments.lexer import RegexLexer\n",
    "from pygments.token import Keyword, Name, Comment, String, Error, Number, Operator, Generic\n",
    "from pygments import highlight\n",
    "from pygments.lexers import PythonLexer, CppLexer\n",
    "from pygments.formatters import HtmlFormatter\n",
    "from IPython.display import display, HTML\n",
    "\n",
    "\n",
    "class CustomCppLexer(RegexLexer):\n",
    "    name = 'CustomCpp'\n",
    "    aliases = ['customcpp']\n",
    "    filenames = ['*.cpp', '*.h']\n",
    "\n",
    "    tokens = {\n",
    "        'root': [\n",
    "            (r'#\\s*include', Keyword.Preproc),\n",
    "            (r'#\\s*if[n]?def', Keyword.Preproc),\n",
    "            (r'#\\s*endif', Keyword.Preproc),\n",
    "            (r'#\\s*define', Keyword.Preproc),\n",
    "            (r'(int|float|void|bool|char|double)', Keyword.Type),\n",
    "            (r'(main|cout|cin|endl|return)', Name.Builtin),\n",
    "            (r'//.*?\\n', Comment.Single),\n",
    "            (r'\"(\\\\\\\\|\\\\\"|[^\"])*\"', String.Double),\n",
    "            (r'\\d+\\.\\d*', Number.Float),\n",
    "            (r'\\d+', Number.Integer),\n",
    "            (r'[~!%^&*+=|?:<>/-]', Operator),\n",
    "            (r'[{}()\\[\\],.;]', Generic),\n",
    "            (r'\\s+', Generic),\n",
    "            (r'\\w+', Name),\n",
    "        ],\n",
    "    }\n",
    "\n",
    "# # Define a custom C++ syntax highlighter\n",
    "# class CustomCppLexer(CppLexer):\n",
    "#     # Add custom rules here if needed\n",
    "#     pass\n",
    "\n",
    "def highlight_code(code, language='python'):\n",
    "    if language == 'python':\n",
    "        lexer = PythonLexer()\n",
    "    elif language == 'cpp':\n",
    "        lexer = CustomCppLexer()\n",
    "    else:\n",
    "        raise ValueError(\"Unsupported language: {}\".format(language))\n",
    "    \n",
    "    formatter = HtmlFormatter(style=\"colorful\")\n",
    "    highlighted_code = highlight(code, lexer, formatter)\n",
    "    display(HTML(highlighted_code))\n",
    "\n",
    "# Example usage\n",
    "python_code = '''\n",
    "def greet(name):\n",
    "    return f\"Hello, {name}!\"\n",
    "'''\n",
    "\n",
    "cpp_code = '''\n",
    "#include <iostream>\n",
    "using namespace std;\n",
    "\n",
    "int main() {\n",
    "    cout << \"Hello, World!\" << endl;\n",
    "    return 0;\n",
    "}\n",
    "'''\n"
   ]
  },
  {
   "cell_type": "code",
   "execution_count": 7,
   "metadata": {},
   "outputs": [
    {
     "data": {
      "text/html": [
       "<div class=\"highlight\"><pre><span></span><span class=\"k\">def</span> <span class=\"nf\">greet</span><span class=\"p\">(</span><span class=\"n\">name</span><span class=\"p\">):</span>\n",
       "    <span class=\"k\">return</span> <span class=\"sa\">f</span><span class=\"s2\">&quot;Hello, </span><span class=\"si\">{</span><span class=\"n\">name</span><span class=\"si\">}</span><span class=\"s2\">!&quot;</span>\n",
       "</pre></div>\n"
      ],
      "text/plain": [
       "<IPython.core.display.HTML object>"
      ]
     },
     "metadata": {},
     "output_type": "display_data"
    }
   ],
   "source": [
    "# Highlight Python code\n",
    "highlight_code(python_code, language='python')"
   ]
  },
  {
   "cell_type": "code",
   "execution_count": 8,
   "metadata": {},
   "outputs": [
    {
     "data": {
      "text/html": [
       "<div class=\"highlight\"><pre><span></span><span class=\"k k-Preproc\">#include</span><span class=\"g\"> </span><span class=\"o\">&lt;</span><span class=\"n\">iostream</span><span class=\"o\">&gt;</span>\n",
       "<span class=\"n\">using</span><span class=\"g\"> </span><span class=\"n\">namespace</span><span class=\"g\"> </span><span class=\"n\">std</span><span class=\"g\">;</span>\n",
       "\n",
       "<span class=\"kt\">int</span><span class=\"g\"> </span><span class=\"nb\">main</span><span class=\"g\">() {</span>\n",
       "<span class=\"g\">    </span><span class=\"nb\">cout</span><span class=\"g\"> </span><span class=\"o\">&lt;&lt;</span><span class=\"g\"> </span><span class=\"s2\">&quot;Hello, World!&quot;</span><span class=\"g\"> </span><span class=\"o\">&lt;&lt;</span><span class=\"g\"> </span><span class=\"nb\">endl</span><span class=\"g\">;</span>\n",
       "<span class=\"g\">    </span><span class=\"nb\">return</span><span class=\"g\"> </span><span class=\"mi\">0</span><span class=\"g\">;</span>\n",
       "<span class=\"g\">}</span>\n",
       "</pre></div>\n"
      ],
      "text/plain": [
       "<IPython.core.display.HTML object>"
      ]
     },
     "metadata": {},
     "output_type": "display_data"
    }
   ],
   "source": [
    "# Highlight C++ code\n",
    "highlight_code(cpp_code, language='cpp')"
   ]
  },
  {
   "cell_type": "code",
   "execution_count": null,
   "metadata": {},
   "outputs": [],
   "source": []
  }
 ],
 "metadata": {
  "kernelspec": {
   "display_name": "Python 3 (ipykernel)",
   "language": "python",
   "name": "python3"
  },
  "language_info": {
   "codemirror_mode": {
    "name": "ipython",
    "version": 3
   },
   "file_extension": ".py",
   "mimetype": "text/x-python",
   "name": "python",
   "nbconvert_exporter": "python",
   "pygments_lexer": "ipython3",
   "version": "3.12.3"
  }
 },
 "nbformat": 4,
 "nbformat_minor": 4
}
