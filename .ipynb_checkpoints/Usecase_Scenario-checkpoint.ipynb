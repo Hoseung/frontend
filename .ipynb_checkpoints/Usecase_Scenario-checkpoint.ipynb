{
 "cells": [
  {
   "cell_type": "code",
   "execution_count": 5,
   "id": "78e49f41-7fc6-4c4c-8eb8-818f8dfa21e4",
   "metadata": {},
   "outputs": [],
   "source": [
    "from IPython.core.magic import register_cell_magic\n",
    "\n",
    "# Global list to store C++ code cells\n",
    "_cpp_cells = []\n",
    "\n",
    "@register_cell_magic\n",
    "def cpp(line, cell):\n",
    "    print(\"This cell contains C++ code:\")\n",
    "    print(cell)\n",
    "    # Append the cell content to the global list\n",
    "    _cpp_cells.append(cell)\n"
   ]
  },
  {
   "cell_type": "code",
   "execution_count": 6,
   "id": "a85bb7dc-8bcb-4c4c-b458-a268f308e8dc",
   "metadata": {},
   "outputs": [
    {
     "name": "stdout",
     "output_type": "stream",
     "text": [
      "This cell contains C++ code:\n",
      "#include <iostream>\n",
      "using namespace std;\n",
      "\n",
      "int main() {\n",
      "    cout << \"Hello, World!\" << endl;\n",
      "    return 0;\n",
      "}\n",
      "\n"
     ]
    }
   ],
   "source": [
    "%%cpp\n",
    "#include <iostream>\n",
    "using namespace std;\n",
    "\n",
    "int main() {\n",
    "    cout << \"Hello, World!\" << endl;\n",
    "    return 0;\n",
    "}"
   ]
  },
  {
   "cell_type": "code",
   "execution_count": 7,
   "id": "6244a6ef-09f6-407e-a55f-edad820a5bfa",
   "metadata": {},
   "outputs": [
    {
     "name": "stdout",
     "output_type": "stream",
     "text": [
      "C++ Code Cell 1:\n",
      "#include <iostream>\n",
      "using namespace std;\n",
      "\n",
      "int main() {\n",
      "    cout << \"Hello, World!\" << endl;\n",
      "    return 0;\n",
      "}\n",
      "\n",
      "\n"
     ]
    }
   ],
   "source": [
    "# Function to retrieve and print the stored C++ code cells\n",
    "def get_cpp_cells():\n",
    "    return _cpp_cells\n",
    "\n",
    "# Call the function to get C++ code cells\n",
    "cpp_code_cells = get_cpp_cells()\n",
    "\n",
    "# Print the captured C++ code cells\n",
    "for idx, cpp_code in enumerate(cpp_code_cells, 1):\n",
    "    print(f\"C++ Code Cell {idx}:\\n{cpp_code}\\n\")"
   ]
  },
  {
   "cell_type": "code",
   "execution_count": null,
   "id": "ba281513-06d4-4d18-be10-df355531de8f",
   "metadata": {},
   "outputs": [],
   "source": []
  },
  {
   "cell_type": "code",
   "execution_count": 3,
   "id": "14aba4a3-6be4-4d72-b50c-1e66b544a000",
   "metadata": {},
   "outputs": [],
   "source": [
    "import clang.cindex"
   ]
  },
  {
   "cell_type": "code",
   "execution_count": null,
   "id": "8686bf63-1aa3-4d2a-b375-9df6ceeaf99d",
   "metadata": {},
   "outputs": [],
   "source": []
  },
  {
   "cell_type": "code",
   "execution_count": null,
   "id": "6da17cad-961d-4331-9491-a69627014856",
   "metadata": {},
   "outputs": [],
   "source": [
    "clang.ind"
   ]
  },
  {
   "cell_type": "code",
   "execution_count": null,
   "id": "e8d2e29f-9e68-4743-af97-d78bede281ef",
   "metadata": {},
   "outputs": [],
   "source": [
    "Ciphertext fun(Ciphertext a) {\n",
    "    // Create FHE circuit\n",
    "    auto b = -a + 2;\n",
    "    auto c = a - b;\n",
    "\n",
    "    return b;\n",
    "}"
   ]
  },
  {
   "cell_type": "code",
   "execution_count": null,
   "id": "0fbeb05f-8b61-4765-81ce-67c6f17b23bd",
   "metadata": {},
   "outputs": [],
   "source": [
    "import cpp_parser"
   ]
  },
  {
   "cell_type": "code",
   "execution_count": null,
   "id": "95a6e127-7ee4-4a32-8f75-de017fd2fbaa",
   "metadata": {},
   "outputs": [],
   "source": [
    "result = cpp_parser.compile(fun(a))\n",
    "\n",
    "cython??"
   ]
  },
  {
   "cell_type": "markdown",
   "id": "e1748e65-1d90-472e-9de5-522a641ad16f",
   "metadata": {},
   "source": [
    "Jupyter에서 CPP 개발 환경 로드? \n",
    "\n",
    "CPP로 알고리즘 개발\n",
    "\n",
    "CPP를 Desilo의 AST로 변환\n",
    "\n",
    "Desilo backend 연산 \n",
    "\n",
    "-> 결과물을 Python으로 보내줌 \n",
    "\n",
    "-> 연결? "
   ]
  },
  {
   "cell_type": "code",
   "execution_count": null,
   "id": "5f235d3c-5bc5-4d02-815f-8703efe9658a",
   "metadata": {},
   "outputs": [],
   "source": []
  }
 ],
 "metadata": {
  "kernelspec": {
   "display_name": "Python 3 (ipykernel)",
   "language": "python",
   "name": "python3"
  },
  "language_info": {
   "codemirror_mode": {
    "name": "ipython",
    "version": 3
   },
   "file_extension": ".py",
   "mimetype": "text/x-python",
   "name": "python",
   "nbconvert_exporter": "python",
   "pygments_lexer": "ipython3",
   "version": "3.12.3"
  }
 },
 "nbformat": 4,
 "nbformat_minor": 5
}
