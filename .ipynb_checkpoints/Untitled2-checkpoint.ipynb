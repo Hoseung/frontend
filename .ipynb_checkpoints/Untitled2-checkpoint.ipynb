{
 "cells": [
  {
   "cell_type": "code",
   "execution_count": 4,
   "id": "b4ebbb41-d62f-4b0b-a66d-90ba4e1b9d41",
   "metadata": {},
   "outputs": [],
   "source": [
    "import clang.cindex\n",
    "import sys\n",
    "\n",
    "def print_ast(node, level=0):\n",
    "    indent = '  ' * level\n",
    "    print(f\"{indent}{node.kind} {node.spelling}\")\n",
    "\n",
    "    if node.kind == clang.cindex.CursorKind.BINARY_OPERATOR:\n",
    "        print(f\"{indent}  Binary Operator:\")\n",
    "        #print(node.id)\n",
    "        return node #######\n",
    "        args = list(node.get_arguments())\n",
    "        for i, arg in enumerate(args):\n",
    "            print(f\"{indent}    Argument {i+1}: {arg.kind} {arg.spelling} (line: {arg.location.line}, column: {arg.location.column})\")\n",
    "\n",
    "    elif node.kind == clang.cindex.CursorKind.UNARY_OPERATOR:\n",
    "        print(f\"{indent}  Unary Operator:\")\n",
    "        args = list(node.get_arguments())\n",
    "        for i, arg in enumerate(args):\n",
    "            print(f\"{indent}    Argument {i+1}: {arg.kind} {arg.spelling} (line: {arg.location.line}, column: {arg.location.column})\")\n",
    "\n",
    "    for child in node.get_children():\n",
    "        if child.kind == clang.cindex.CursorKind.FUNCTION_DECL and child.spelling == \"main\":\n",
    "            continue\n",
    "        rr = print_ast(child, level + 1)\n",
    "        if rr is not None:\n",
    "            return rr\n",
    "\n",
    "def main(filename):\n",
    "    index = clang.cindex.Index.create()\n",
    "    translation_unit = index.parse(filename)\n",
    "\n",
    "    print_ast(translation_unit.cursor)"
   ]
  },
  {
   "cell_type": "code",
   "execution_count": 8,
   "id": "1025e4a1-06d7-4735-a054-6e60b665d6ca",
   "metadata": {},
   "outputs": [
    {
     "name": "stdout",
     "output_type": "stream",
     "text": [
      "CursorKind.TRANSLATION_UNIT ./source_cpp/example1.cpp\n",
      "  CursorKind.FUNCTION_DECL fun\n",
      "    CursorKind.PARM_DECL a\n",
      "    CursorKind.COMPOUND_STMT \n",
      "      CursorKind.DECL_STMT \n",
      "        CursorKind.VAR_DECL b\n",
      "          CursorKind.BINARY_OPERATOR \n",
      "            Binary Operator:\n"
     ]
    }
   ],
   "source": [
    "fn = \"./source_cpp/example1.cpp\"\n",
    "node = main(fn)"
   ]
  },
  {
   "cell_type": "code",
   "execution_count": 11,
   "id": "df012139-19d7-48dd-9470-c40c1efd8a83",
   "metadata": {},
   "outputs": [],
   "source": [
    "index = clang.cindex.Index.create()\n",
    "cursor = index.parse(fn).cursor"
   ]
  },
  {
   "cell_type": "code",
   "execution_count": 36,
   "id": "3a934a16-08bb-466a-a8a2-5e12c8d536d1",
   "metadata": {},
   "outputs": [
    {
     "name": "stdout",
     "output_type": "stream",
     "text": [
      "fun\n",
      "main\n"
     ]
    }
   ],
   "source": [
    "fndc_fun, fndc_main = list(cursor.get_children())\n",
    "\n",
    "print(fndc_fun.spelling)\n",
    "print(fndc_main.spelling)"
   ]
  },
  {
   "cell_type": "code",
   "execution_count": 37,
   "id": "5330d0c0-8342-4428-901b-4e400c9497ee",
   "metadata": {},
   "outputs": [
    {
     "name": "stdout",
     "output_type": "stream",
     "text": [
      "a\n",
      "\n",
      "[]\n"
     ]
    }
   ],
   "source": [
    "fn_prm, fn_body = list(fndc_fun.get_children())\n",
    "# fh_prm has no children\n",
    "print(fn_prm.spelling)\n",
    "print(fn_body.spelling)\n",
    "print(list(fn_prm.get_children()))"
   ]
  },
  {
   "cell_type": "code",
   "execution_count": 31,
   "id": "f71a0d25-d97a-4639-bcbb-21282e04c630",
   "metadata": {},
   "outputs": [],
   "source": [
    "cc = list(fn_body.get_children())"
   ]
  },
  {
   "cell_type": "code",
   "execution_count": 40,
   "id": "bc666143-1efc-4568-aba7-e5ee83868add",
   "metadata": {},
   "outputs": [
    {
     "name": "stdout",
     "output_type": "stream",
     "text": [
      "CursorKind.DECL_STMT\n",
      "CursorKind.DECL_STMT\n",
      "CursorKind.RETURN_STMT\n"
     ]
    }
   ],
   "source": [
    "for cc in fn_body.get_children():\n",
    "    print(cc.kind)"
   ]
  },
  {
   "cell_type": "code",
   "execution_count": 33,
   "id": "126553b7-6b54-418e-868b-4dd2f54b2d58",
   "metadata": {},
   "outputs": [
    {
     "data": {
      "text/plain": [
       "CursorKind.DECL_STMT"
      ]
     },
     "execution_count": 33,
     "metadata": {},
     "output_type": "execute_result"
    }
   ],
   "source": [
    "cc[0].kind"
   ]
  },
  {
   "cell_type": "code",
   "execution_count": 34,
   "id": "b99747c2-6c80-4269-8dfe-0b7f36fdc80f",
   "metadata": {},
   "outputs": [
    {
     "data": {
      "text/plain": [
       "CursorKind.DECL_STMT"
      ]
     },
     "execution_count": 34,
     "metadata": {},
     "output_type": "execute_result"
    }
   ],
   "source": [
    "cc[1].kind"
   ]
  },
  {
   "cell_type": "code",
   "execution_count": 26,
   "id": "5a6df0fd-cd66-4b82-a5d9-e0c0cd9242e1",
   "metadata": {},
   "outputs": [
    {
     "data": {
      "text/plain": [
       "CursorKind.COMPOUND_STMT"
      ]
     },
     "execution_count": 26,
     "metadata": {},
     "output_type": "execute_result"
    }
   ],
   "source": [
    "cc[1].kind"
   ]
  },
  {
   "cell_type": "code",
   "execution_count": 19,
   "id": "5473bb20-c657-4d13-92dd-872706d18f15",
   "metadata": {},
   "outputs": [
    {
     "data": {
      "text/plain": [
       "CursorKind.FUNCTION_DECL"
      ]
     },
     "execution_count": 19,
     "metadata": {},
     "output_type": "execute_result"
    }
   ],
   "source": [
    "chs1[1].kind"
   ]
  },
  {
   "cell_type": "code",
   "execution_count": 24,
   "id": "67ad8b1e-8b12-483f-b3ad-d4b5c95df648",
   "metadata": {},
   "outputs": [
    {
     "data": {
      "text/plain": [
       "\u001b[0;31mType:\u001b[0m        NoneType\n",
       "\u001b[0;31mString form:\u001b[0m None\n",
       "\u001b[0;31mDocstring:\u001b[0m   <no docstring>"
      ]
     },
     "metadata": {},
     "output_type": "display_data"
    }
   ],
   "source": [
    "node?"
   ]
  },
  {
   "cell_type": "code",
   "execution_count": 25,
   "id": "2d0c342f-938a-485b-938d-7de95bf12972",
   "metadata": {},
   "outputs": [],
   "source": [
    "index = clang.cindex.Index.create()\n",
    "translation_unit = index.parse(\"./source_cpp/example1.cpp\")"
   ]
  },
  {
   "cell_type": "code",
   "execution_count": 28,
   "id": "86150162-322b-44a4-8e40-b03e3d41f010",
   "metadata": {},
   "outputs": [
    {
     "name": "stdout",
     "output_type": "stream",
     "text": [
      "fun\n"
     ]
    }
   ],
   "source": [
    "# 1\n",
    "for node in translation_unit.cursor.get_children():\n",
    "    print(node.spelling)\n",
    "    break"
   ]
  },
  {
   "cell_type": "markdown",
   "id": "bb881976-90f6-455f-9ae0-c08af61227ab",
   "metadata": {},
   "source": [
    "아래는 function definition의 argument일걸? "
   ]
  },
  {
   "cell_type": "code",
   "execution_count": 29,
   "id": "4dcf69dd-51c9-4dc2-a818-e196ef60133b",
   "metadata": {},
   "outputs": [
    {
     "name": "stdout",
     "output_type": "stream",
     "text": [
      "a\n",
      "\n"
     ]
    }
   ],
   "source": [
    "for child in node.get_children():\n",
    "    print(child.spelling) "
   ]
  },
  {
   "cell_type": "code",
   "execution_count": null,
   "id": "626d090d-3534-48c9-8c40-e5f4d272da4e",
   "metadata": {},
   "outputs": [],
   "source": []
  }
 ],
 "metadata": {
  "kernelspec": {
   "display_name": "Python 3 (ipykernel)",
   "language": "python",
   "name": "python3"
  },
  "language_info": {
   "codemirror_mode": {
    "name": "ipython",
    "version": 3
   },
   "file_extension": ".py",
   "mimetype": "text/x-python",
   "name": "python",
   "nbconvert_exporter": "python",
   "pygments_lexer": "ipython3",
   "version": "3.12.3"
  }
 },
 "nbformat": 4,
 "nbformat_minor": 5
}
