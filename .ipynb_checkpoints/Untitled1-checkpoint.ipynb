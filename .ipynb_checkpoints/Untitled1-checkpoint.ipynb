{
 "cells": [
  {
   "cell_type": "code",
   "execution_count": 1,
   "id": "56e29d55-af98-4a1a-bd24-2c11dbe369de",
   "metadata": {},
   "outputs": [],
   "source": [
    "%load_ext autoreload\n",
    "%autoreload 2"
   ]
  },
  {
   "cell_type": "code",
   "execution_count": 1,
   "id": "b1eaf4e1-d2cf-48b8-b597-cfe3fc5216bb",
   "metadata": {},
   "outputs": [],
   "source": [
    "import clang.cindex\n",
    "from parser.parser import *"
   ]
  },
  {
   "cell_type": "code",
   "execution_count": 2,
   "id": "1132362a-34b3-4792-b505-0913561c8f90",
   "metadata": {},
   "outputs": [],
   "source": [
    "fn_cpp = \"source_cpp/example1.cpp\""
   ]
  },
  {
   "cell_type": "code",
   "execution_count": 24,
   "id": "55291800-9a32-4729-8e3c-3202fe36d2d6",
   "metadata": {},
   "outputs": [
    {
     "data": {
      "text/plain": [
       "[]"
      ]
     },
     "execution_count": 24,
     "metadata": {},
     "output_type": "execute_result"
    }
   ],
   "source": [
    "list(tu.cursor.get_arguments())"
   ]
  },
  {
   "cell_type": "code",
   "execution_count": 14,
   "id": "8ee39ff4-f098-481a-91d3-661cef46d64c",
   "metadata": {},
   "outputs": [
    {
     "name": "stdout",
     "output_type": "stream",
     "text": [
      "Found ciphertext reference\n",
      "  CursorKind.UNEXPOSED_EXPR CipherNode\n",
      "CursorKind.TRANSLATION_UNIT source_cpp/example1.cpp\n",
      "Found ciphertext reference\n",
      "Found ciphertext reference\n",
      "    CursorKind.UNEXPOSED_EXPR CipherNode\n",
      "  CursorKind.FUNCTION_DECL fun : FunctionProto\n",
      "Found ciphertext reference\n",
      "      CursorKind.UNEXPOSED_EXPR CipherNode\n",
      "    CursorKind.PARM_DECL a : Int\n",
      "    CursorKind.COMPOUND_STMT \n",
      "      CursorKind.DECL_STMT \n",
      "        CursorKind.VAR_DECL b : Auto\n",
      "      CursorKind.DECL_STMT \n",
      "        CursorKind.VAR_DECL c : Auto\n",
      "      CursorKind.RETURN_STMT \n",
      "        CursorKind.UNEXPOSED_EXPR  : Dependent\n"
     ]
    }
   ],
   "source": [
    "# 1. Operator 정보 전체 출력으로 수정\n",
    "# 2. Node가 제대로 바뀐게 맞나? get_Children으로 확인. \n",
    "\n",
    "tu = parse_code_snippet(fn_cpp, loc=False)"
   ]
  },
  {
   "cell_type": "code",
   "execution_count": 78,
   "id": "72b81ebf-071e-4bd9-a1f2-091d6fb8259b",
   "metadata": {},
   "outputs": [
    {
     "name": "stdout",
     "output_type": "stream",
     "text": [
      "<clang.cindex.Cursor object at 0x73931f115c50>\n"
     ]
    }
   ],
   "source": [
    "for ch in tu.cursor.get_children():\n",
    "    print(ch)\n",
    "    break"
   ]
  },
  {
   "cell_type": "code",
   "execution_count": 81,
   "id": "98499dec-79e1-4bc8-876f-a5532694e45e",
   "metadata": {},
   "outputs": [
    {
     "name": "stdout",
     "output_type": "stream",
     "text": [
      "<clang.cindex.Cursor object at 0x73931f117e50>\n"
     ]
    }
   ],
   "source": [
    "for cc in ch.get_children():\n",
    "    print(cc)\n",
    "    break"
   ]
  },
  {
   "cell_type": "code",
   "execution_count": 84,
   "id": "afcae1bf-f5ff-45d3-bace-87af14232952",
   "metadata": {},
   "outputs": [
    {
     "data": {
      "text/plain": [
       "'fun'"
      ]
     },
     "execution_count": 84,
     "metadata": {},
     "output_type": "execute_result"
    }
   ],
   "source": [
    "ch.spelling"
   ]
  },
  {
   "cell_type": "code",
   "execution_count": 83,
   "id": "6fda8bfb-e4c3-4a33-a28b-fb0c59272f9f",
   "metadata": {},
   "outputs": [
    {
     "data": {
      "text/plain": [
       "'a'"
      ]
     },
     "execution_count": 83,
     "metadata": {},
     "output_type": "execute_result"
    }
   ],
   "source": [
    "cc.spelling"
   ]
  },
  {
   "cell_type": "code",
   "execution_count": 82,
   "id": "2eb0c7fa-d941-409e-a76d-2dbd650cdc28",
   "metadata": {},
   "outputs": [],
   "source": [
    "for c1 in cc.get_children():\n",
    "    print(\"_\", \"aa\", c1.kind)"
   ]
  },
  {
   "cell_type": "code",
   "execution_count": 71,
   "id": "3518dbee-e805-4b6b-83e5-05b1ab40c140",
   "metadata": {},
   "outputs": [
    {
     "data": {
      "text/plain": [
       "''"
      ]
     },
     "execution_count": 71,
     "metadata": {},
     "output_type": "execute_result"
    }
   ],
   "source": [
    "c1.spelling"
   ]
  },
  {
   "cell_type": "code",
   "execution_count": 55,
   "id": "5f189b80-0b16-4ec7-b876-2d05e7458cf8",
   "metadata": {},
   "outputs": [
    {
     "data": {
      "text/plain": [
       "'source_cpp/example1.cpp'"
      ]
     },
     "execution_count": 55,
     "metadata": {},
     "output_type": "execute_result"
    }
   ],
   "source": [
    "tu.cursor.spelling"
   ]
  },
  {
   "cell_type": "code",
   "execution_count": 51,
   "id": "7f8591a4-1ea4-4a72-8324-0b7b30a08fb1",
   "metadata": {},
   "outputs": [
    {
     "data": {
      "text/plain": [
       "'source_cpp/example1.cpp'"
      ]
     },
     "execution_count": 51,
     "metadata": {},
     "output_type": "execute_result"
    }
   ],
   "source": [
    "tu.cursor.spelling"
   ]
  },
  {
   "cell_type": "code",
   "execution_count": 48,
   "id": "8280dbe6-6d2f-4bae-b4fd-f90fc56f9373",
   "metadata": {},
   "outputs": [
    {
     "data": {
      "text/plain": [
       "<generator object TokenGroup.get_tokens at 0x73933336e050>"
      ]
     },
     "execution_count": 48,
     "metadata": {},
     "output_type": "execute_result"
    }
   ],
   "source": [
    "tu.get_tokens()"
   ]
  },
  {
   "cell_type": "code",
   "execution_count": 30,
   "id": "8468241c-0cac-4d49-a739-e351cb6ab3a2",
   "metadata": {},
   "outputs": [
    {
     "ename": "AttributeError",
     "evalue": "'dict' object has no attribute 'kind'",
     "output_type": "error",
     "traceback": [
      "\u001b[0;31m---------------------------------------------------------------------------\u001b[0m",
      "\u001b[0;31mAttributeError\u001b[0m                            Traceback (most recent call last)",
      "Cell \u001b[0;32mIn[30], line 1\u001b[0m\n\u001b[0;32m----> 1\u001b[0m tu \u001b[38;5;241m=\u001b[39m parse_mod(fn_cpp, loc\u001b[38;5;241m=\u001b[39m\u001b[38;5;28;01mFalse\u001b[39;00m)\n",
      "File \u001b[0;32m~/Work/frontend/parser/parser.py:45\u001b[0m, in \u001b[0;36mparse_mod\u001b[0;34m(fn_cpp, loc)\u001b[0m\n\u001b[1;32m     43\u001b[0m modified_ast \u001b[38;5;241m=\u001b[39m modify_ast(tu\u001b[38;5;241m.\u001b[39mcursor)\n\u001b[1;32m     44\u001b[0m \u001b[38;5;66;03m# print_modified_ast(modified_ast, location=loc)\u001b[39;00m\n\u001b[0;32m---> 45\u001b[0m print_ast(modified_ast, location\u001b[38;5;241m=\u001b[39mloc)\n\u001b[1;32m     46\u001b[0m \u001b[38;5;28;01mreturn\u001b[39;00m tu\n",
      "File \u001b[0;32m~/Work/frontend/parser/parser.py:98\u001b[0m, in \u001b[0;36mprint_ast\u001b[0;34m(node, depth, location, param_name, ignore_main)\u001b[0m\n\u001b[1;32m     95\u001b[0m indent \u001b[38;5;241m=\u001b[39m \u001b[38;5;124m'\u001b[39m\u001b[38;5;124m \u001b[39m\u001b[38;5;124m'\u001b[39m \u001b[38;5;241m*\u001b[39m (depth \u001b[38;5;241m*\u001b[39m \u001b[38;5;241m2\u001b[39m)\n\u001b[1;32m     97\u001b[0m \u001b[38;5;66;03m# Gather additional information about the node\u001b[39;00m\n\u001b[0;32m---> 98\u001b[0m node_info \u001b[38;5;241m=\u001b[39m \u001b[38;5;124mf\u001b[39m\u001b[38;5;124m\"\u001b[39m\u001b[38;5;132;01m{\u001b[39;00mnode\u001b[38;5;241m.\u001b[39mkind\u001b[38;5;132;01m}\u001b[39;00m\u001b[38;5;124m \u001b[39m\u001b[38;5;132;01m{\u001b[39;00mnode\u001b[38;5;241m.\u001b[39mspelling\u001b[38;5;132;01m}\u001b[39;00m\u001b[38;5;124m\"\u001b[39m\n\u001b[1;32m     99\u001b[0m \u001b[38;5;28;01mif\u001b[39;00m node\u001b[38;5;241m.\u001b[39mtype\u001b[38;5;241m.\u001b[39mkind \u001b[38;5;241m!=\u001b[39m clang\u001b[38;5;241m.\u001b[39mcindex\u001b[38;5;241m.\u001b[39mTypeKind\u001b[38;5;241m.\u001b[39mINVALID:\n\u001b[1;32m    100\u001b[0m     node_info \u001b[38;5;241m+\u001b[39m\u001b[38;5;241m=\u001b[39m \u001b[38;5;124mf\u001b[39m\u001b[38;5;124m\"\u001b[39m\u001b[38;5;124m : \u001b[39m\u001b[38;5;132;01m{\u001b[39;00mnode\u001b[38;5;241m.\u001b[39mtype\u001b[38;5;241m.\u001b[39mkind\u001b[38;5;241m.\u001b[39mspelling\u001b[38;5;132;01m}\u001b[39;00m\u001b[38;5;124m\"\u001b[39m\n",
      "\u001b[0;31mAttributeError\u001b[0m: 'dict' object has no attribute 'kind'"
     ]
    }
   ],
   "source": [
    "tu = parse_mod(fn_cpp, loc=False)"
   ]
  },
  {
   "cell_type": "code",
   "execution_count": null,
   "id": "8911b397-eba0-443e-ab50-a540a11f3d0a",
   "metadata": {},
   "outputs": [],
   "source": [
    "tu.cursor."
   ]
  },
  {
   "cell_type": "code",
   "execution_count": 13,
   "id": "fae791d2-0248-4c2d-a261-f4023d92d79b",
   "metadata": {},
   "outputs": [],
   "source": [
    "iter = tu.cursor.get_children()"
   ]
  },
  {
   "cell_type": "code",
   "execution_count": 17,
   "id": "7e050d2b-ed3c-4f52-8f1c-5d4a156f37fd",
   "metadata": {},
   "outputs": [],
   "source": [
    "ch = next(iter)"
   ]
  },
  {
   "cell_type": "code",
   "execution_count": 25,
   "id": "98faa241-9830-4ff9-8ff1-9900545288b0",
   "metadata": {},
   "outputs": [
    {
     "name": "stdout",
     "output_type": "stream",
     "text": [
      "<SourceLocation file 'source_cpp/example1.cpp', line 1, column 12>\n",
      "<clang.cindex.Type object at 0x73931fb260d0>\n",
      "fun\n",
      "fun(int)\n",
      "<clang.cindex.Type object at 0x73931fb26350>\n"
     ]
    }
   ],
   "source": [
    "print(ch.location)\n",
    "print(ch.type)\n",
    "print(ch.spelling)\n",
    "print(ch.displayname)\n",
    "print(ch.result_type)\n",
    "print(ch."
   ]
  },
  {
   "cell_type": "code",
   "execution_count": null,
   "id": "de22e02b-add9-4a9c-969a-a1e798485944",
   "metadata": {},
   "outputs": [],
   "source": [
    "for attr in ch.__dir__()"
   ]
  },
  {
   "cell_type": "code",
   "execution_count": 36,
   "id": "3083d95e-20f1-4fcd-995f-9f9afcde610c",
   "metadata": {},
   "outputs": [
    {
     "name": "stdout",
     "output_type": "stream",
     "text": [
      "a\n"
     ]
    },
    {
     "name": "stderr",
     "output_type": "stream",
     "text": [
      "[autoreload of parser.parser failed: Traceback (most recent call last):\n",
      "  File \"/home/hoseung/miniconda3/envs/ast/lib/python3.12/site-packages/IPython/extensions/autoreload.py\", line 276, in check\n",
      "    superreload(m, reload, self.old_objects)\n",
      "  File \"/home/hoseung/miniconda3/envs/ast/lib/python3.12/site-packages/IPython/extensions/autoreload.py\", line 475, in superreload\n",
      "    module = reload(module)\n",
      "             ^^^^^^^^^^^^^^\n",
      "  File \"/home/hoseung/miniconda3/envs/ast/lib/python3.12/importlib/__init__.py\", line 131, in reload\n",
      "    _bootstrap._exec(spec, module)\n",
      "  File \"<frozen importlib._bootstrap>\", line 866, in _exec\n",
      "  File \"<frozen importlib._bootstrap_external>\", line 991, in exec_module\n",
      "  File \"<frozen importlib._bootstrap_external>\", line 1129, in get_code\n",
      "  File \"<frozen importlib._bootstrap_external>\", line 1059, in source_to_code\n",
      "  File \"<frozen importlib._bootstrap>\", line 488, in _call_with_frames_removed\n",
      "  File \"/home/hoseung/Work/frontend/parser/parser.py\", line 136\n",
      "    , clang.cindex.CursorKind.UNARY_OPERATOR):\n",
      "                                            ^\n",
      "SyntaxError: unmatched ')'\n",
      "]\n"
     ]
    }
   ],
   "source": [
    "for arg in ch.get_arguments():\n",
    "    print(arg.spelling)"
   ]
  },
  {
   "cell_type": "code",
   "execution_count": 17,
   "id": "dd590ddc-e614-42e7-90f3-d132abcdeef9",
   "metadata": {},
   "outputs": [
    {
     "name": "stdout",
     "output_type": "stream",
     "text": [
      "CursorKind.TRANSLATION_UNIT source_cpp/example1.cpp\n",
      "  CursorKind.FUNCTION_DECL fun : FunctionProto\n",
      "    CursorKind.PARM_DECL a : Int\n",
      "    CursorKind.COMPOUND_STMT \n",
      "      CursorKind.DECL_STMT \n",
      "        CursorKind.VAR_DECL b : Auto\n",
      "          CursorKind.BINARY_OPERATOR  : Dependent (Operator: -)\n",
      "            CursorKind.UNARY_OPERATOR  : Dependent (Operator: -)\n",
      "              CursorKind.UNEXPOSED_EXPR  : Dependent\n",
      "            CursorKind.INTEGER_LITERAL  : Int\n",
      "      CursorKind.DECL_STMT \n",
      "        CursorKind.VAR_DECL c : Auto\n",
      "          CursorKind.BINARY_OPERATOR  : Dependent (Operator: a)\n",
      "            CursorKind.UNEXPOSED_EXPR  : Dependent\n",
      "            CursorKind.UNEXPOSED_EXPR  : Dependent\n",
      "      CursorKind.RETURN_STMT \n",
      "        CursorKind.UNEXPOSED_EXPR  : Dependent\n"
     ]
    }
   ],
   "source": [
    "tu = parse_code_snippet(fn_cpp, loc=False, ignore_main=True)"
   ]
  },
  {
   "cell_type": "markdown",
   "id": "2903fabf-050c-4107-bc02-9627e74be65e",
   "metadata": {},
   "source": [
    "1. PlainNode와 CipherNode를 판별\n",
    "- CipherNode이거나, CipherNode와 binary operator에 참여하는 경우\n",
    "- if child.kind == clang.cindex.CursorKind.BINARY_OPERATOR:\n",
    "- - for _ in child.get_tokens():\n",
    "  -     if _.spelling == \"a\":\n",
    "  -         return True\n",
    "\n",
    "    여기에다가 CipherNode를 추가하나? 아님 CipherNode로 바꾸나?\n",
    "    Desilo AST에서 CipherNode의 역할은 무엇인가?\n",
    "\n",
    "- 이 둘에게는 Params{} 특성 부여\n",
    "- PlainNode는 params가 모두 null\n",
    "- - \"params\": {\n",
    "\t\t\t  \"scale\": null,\n",
    "\t\t\t  \"min_scale\": null,\n",
    "\t\t\t  \"level\": null\n",
    "\t\t\t},\n",
    "- - CipherNode는 params 값을 어디서 받아오지...?    -> Main function에서 설정하는 단계가 있고, 거기서 받아오는 메커니즘 필요함.\n",
    "\n",
    "2. Unary Operation인 negation 먼저 처리\n",
    "- Negation 판별\n",
    "- CursorKind.UNARY_OPERATOR  : Dependent (Operator: -a) 에서..\n",
    "- - `if clang.cindex.CursorKind.UNARY_OPERATOR and operator == \"-\"`\n",
    " \n",
    "3. Binary Operator 처리\n",
    "- Addition : `if clang.cindex.CursorKind.BINARY_OPERATOR and operator == \"+\"`\n",
    "- Multiplication : `if clang.cindex.CursorKind.BINARY_OPERATOR and operator == \"*\"`\n",
    "- Subtraction : `if clang.cindex.CursorKind.BINARY_OPERATOR and operator == \"-\"`"
   ]
  },
  {
   "cell_type": "markdown",
   "id": "99ace40f-c710-4249-8876-54942f824fa4",
   "metadata": {},
   "source": [
    "CursorKind.DECL_STMT  (\n",
    "  CursorKind.VAR_DECL b : Auto\n",
    "\n",
    "-> b = "
   ]
  },
  {
   "cell_type": "code",
   "execution_count": 9,
   "id": "d5f84100-7798-42a8-a7f4-5f32c4fa05b1",
   "metadata": {},
   "outputs": [
    {
     "name": "stdout",
     "output_type": "stream",
     "text": [
      "<clang.cindex.Cursor object at 0x7af3477c1dd0>\n",
      "<clang.cindex.Cursor object at 0x7af3477c1750>\n"
     ]
    }
   ],
   "source": [
    "for ch in tu.cursor.get_children():\n",
    "    print(ch)"
   ]
  },
  {
   "cell_type": "code",
   "execution_count": null,
   "id": "7357afea-e7bd-4ecc-b80b-a9dcd6e932f4",
   "metadata": {},
   "outputs": [],
   "source": [
    "# get_children -> list_iterator"
   ]
  },
  {
   "cell_type": "code",
   "execution_count": 11,
   "id": "86e5c651-68e3-4ffa-81dd-b3da02e073b9",
   "metadata": {},
   "outputs": [],
   "source": [
    "ch2 = ch.get_children()"
   ]
  },
  {
   "cell_type": "code",
   "execution_count": 12,
   "id": "fd1f4cd6-32e1-4ff4-80fd-98961241341c",
   "metadata": {},
   "outputs": [
    {
     "data": {
      "text/plain": [
       "<list_iterator at 0x7af35c72ffa0>"
      ]
     },
     "execution_count": 12,
     "metadata": {},
     "output_type": "execute_result"
    }
   ],
   "source": [
    "ch2"
   ]
  },
  {
   "cell_type": "code",
   "execution_count": null,
   "id": "ca399203-75fa-46e6-bd77-a5be8dc0c5ba",
   "metadata": {},
   "outputs": [],
   "source": []
  }
 ],
 "metadata": {
  "kernelspec": {
   "display_name": "Python 3 (ipykernel)",
   "language": "python",
   "name": "python3"
  },
  "language_info": {
   "codemirror_mode": {
    "name": "ipython",
    "version": 3
   },
   "file_extension": ".py",
   "mimetype": "text/x-python",
   "name": "python",
   "nbconvert_exporter": "python",
   "pygments_lexer": "ipython3",
   "version": "3.12.3"
  }
 },
 "nbformat": 4,
 "nbformat_minor": 5
}
