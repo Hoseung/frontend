{
 "cells": [
  {
   "cell_type": "markdown",
   "id": "dec1e5f3-044e-4f18-9703-2ae34b25ab44",
   "metadata": {},
   "source": [
    "1. 가장 복잡한 예제 요청\n",
    "2. JSON 전달해서 구동되는지 확인 부탁\n",
    "   다르게 생긴 C++ 코드도 돌아가는지 확인하기 위해서 \n",
    "3. Jupyter notebook에서 C++ 코드용 CELL을 표기하는 특수 함수 만들기\n",
    "4. cp.compile_from_source 기능 추가해서 디사일로에 제안"
   ]
  },
  {
   "cell_type": "code",
   "execution_count": 1,
   "id": "a2010b68-b71a-47a4-b348-9fe9df097166",
   "metadata": {},
   "outputs": [],
   "source": [
    "from compyler import cpp_loader"
   ]
  },
  {
   "cell_type": "markdown",
   "id": "f15688f3",
   "metadata": {},
   "source": [
    "# 1. Runing C++ source code "
   ]
  },
  {
   "cell_type": "code",
   "execution_count": 2,
   "id": "dc3cf582-8f7e-441c-98d0-b170e0fa0008",
   "metadata": {},
   "outputs": [
    {
     "name": "stdout",
     "output_type": "stream",
     "text": [
      "No syntax errors found.\n",
      "Ciphertext fun(Ciphertext a) {\n",
      "    // Create FHE circuit\n",
      "    auto b = -a + 2;\n",
      "    auto c = a - b;\n",
      "\n",
      "    return c;\n",
      "}\n"
     ]
    }
   ],
   "source": [
    "extracted_function = cpp_loader.load_cpp_fun(\"./source_cpp/example1.cpp\", function_name='fun')\n",
    "print(extracted_function)"
   ]
  },
  {
   "cell_type": "code",
   "execution_count": 3,
   "id": "6debd99b-5152-4dd7-a496-0362e3f67cc5",
   "metadata": {},
   "outputs": [
    {
     "name": "stdout",
     "output_type": "stream",
     "text": [
      "3 <SourceLocation file 'temp.cpp', line 2, column 5>: unknown type name 'FheProgram'\n",
      "1 issue(s) found.\n",
      "None\n"
     ]
    }
   ],
   "source": [
    "extracted_function = cpp_loader.load_cpp_fun(\"./source_cpp/example1.cpp\", function_name='main')\n",
    "print(extracted_function)"
   ]
  },
  {
   "cell_type": "code",
   "execution_count": 2,
   "id": "6d30114f-a592-45a6-baec-8da83b959485",
   "metadata": {},
   "outputs": [
    {
     "ename": "ValueError",
     "evalue": "Function 'fun_err' not found in the file.",
     "output_type": "error",
     "traceback": [
      "\u001b[0;31m---------------------------------------------------------------------------\u001b[0m",
      "\u001b[0;31mValueError\u001b[0m                                Traceback (most recent call last)",
      "Cell \u001b[0;32mIn[2], line 1\u001b[0m\n\u001b[0;32m----> 1\u001b[0m extracted_function \u001b[38;5;241m=\u001b[39m \u001b[43mcpp_loader\u001b[49m\u001b[38;5;241;43m.\u001b[39;49m\u001b[43mload_cpp_fun\u001b[49m\u001b[43m(\u001b[49m\u001b[38;5;124;43m\"\u001b[39;49m\u001b[38;5;124;43m./source_cpp/example1.cpp\u001b[39;49m\u001b[38;5;124;43m\"\u001b[39;49m\u001b[43m,\u001b[49m\u001b[43m \u001b[49m\u001b[43mfunction_name\u001b[49m\u001b[38;5;241;43m=\u001b[39;49m\u001b[38;5;124;43m'\u001b[39;49m\u001b[38;5;124;43mfun_err\u001b[39;49m\u001b[38;5;124;43m'\u001b[39;49m\u001b[43m)\u001b[49m\n\u001b[1;32m      2\u001b[0m \u001b[38;5;28mprint\u001b[39m(extracted_function)\n",
      "File \u001b[0;32m~/Work/fhecompiler/frontend/compyler/cpp_loader.py:36\u001b[0m, in \u001b[0;36mload_cpp_fun\u001b[0;34m(path, function_name, verbose)\u001b[0m\n\u001b[1;32m     34\u001b[0m source_code \u001b[38;5;241m=\u001b[39m extract_fun_by_name(cpp_code, function_name\u001b[38;5;241m=\u001b[39mfunction_name)\n\u001b[1;32m     35\u001b[0m \u001b[38;5;28;01mif\u001b[39;00m source_code \u001b[38;5;129;01mis\u001b[39;00m \u001b[38;5;28;01mNone\u001b[39;00m:\n\u001b[0;32m---> 36\u001b[0m     \u001b[38;5;28;01mraise\u001b[39;00m \u001b[38;5;167;01mValueError\u001b[39;00m(\u001b[38;5;124mf\u001b[39m\u001b[38;5;124m\"\u001b[39m\u001b[38;5;124mFunction \u001b[39m\u001b[38;5;124m'\u001b[39m\u001b[38;5;132;01m{\u001b[39;00mfunction_name\u001b[38;5;132;01m}\u001b[39;00m\u001b[38;5;124m'\u001b[39m\u001b[38;5;124m not found in the file.\u001b[39m\u001b[38;5;124m\"\u001b[39m)\n\u001b[1;32m     37\u001b[0m \u001b[38;5;28;01mif\u001b[39;00m check_syntax(source_code) \u001b[38;5;129;01mor\u001b[39;00m verbose:\n\u001b[1;32m     38\u001b[0m     \u001b[38;5;28;01mreturn\u001b[39;00m source_code\n",
      "\u001b[0;31mValueError\u001b[0m: Function 'fun_err' not found in the file."
     ]
    }
   ],
   "source": [
    "extracted_function = cpp_loader.load_cpp_fun(\"./source_cpp/example1.cpp\", function_name='fun_err')\n",
    "print(extracted_function)"
   ]
  },
  {
   "cell_type": "code",
   "execution_count": 3,
   "id": "2b8e59c8-5780-43ff-a200-669c3a41816a",
   "metadata": {},
   "outputs": [
    {
     "name": "stdout",
     "output_type": "stream",
     "text": [
      "No syntax errors found.\n",
      "Full Python code:\n",
      "\n",
      "import compyler as cp\n",
      "program = cp.FheProgram(scheme=\"CKKS\", devices=[1])\n",
      "a = program.add_secret(\"a\", 40)\n",
      "    # Create FHE circuit\n",
      "b = -a + 2\n",
      "c = a\n",
      "for i in range(0, 5, 1):\n",
      "    c = c * (-c + 2)\n",
      "    b = b * (-c + 2)\n",
      "d = b.mean() + c.mean()\n",
      "program.cppcompile(d)\n",
      "\n",
      "Wrote JSON to file /home/hoseung/.cache/fhecompiler/test.json\n"
     ]
    }
   ],
   "source": [
    "path =\"./source_cpp/example2.cpp\"\n",
    "cpp_loader.compile_cpp(path, function_name='fun')"
   ]
  },
  {
   "cell_type": "markdown",
   "id": "7dd40348",
   "metadata": {},
   "source": [
    "# 2. On-line C++ editing "
   ]
  },
  {
   "cell_type": "code",
   "execution_count": 2,
   "id": "afee3691-1deb-4f80-86d2-18b12e797e62",
   "metadata": {},
   "outputs": [],
   "source": [
    "from IPython.core.magic import register_cell_magic\n",
    "from IPython.display import Markdown, display\n",
    "\n",
    "@register_cell_magic\n",
    "def cpp(line, cell):\n",
    "    # Extract the variable name from the line argument\n",
    "    variable_name = line.strip()\n",
    "    \n",
    "    # Store the C++ code in the specified variable\n",
    "    if variable_name:\n",
    "        globals()[variable_name] = cell\n",
    "    \n",
    "    # Display the code block with C++ syntax highlighting\n",
    "    display(Markdown(f\"```c++\\n{cell}\\n```\"))"
   ]
  },
  {
   "cell_type": "markdown",
   "id": "812038fd",
   "metadata": {},
   "source": [
    "1. \"%%cpp\" 라는 특수 함수를 만들어서 Jupyter notebook에서 C++ 코드를 실행할 수 있게 한다.\n",
    "2. \"my_cpp_code\" 라는 변수에 C++ 코드를 저장한다.\n",
    "3. cpp_loader."
   ]
  },
  {
   "cell_type": "code",
   "execution_count": 3,
   "id": "3f41ee52-362d-4419-ba4c-038734c3eb0e",
   "metadata": {},
   "outputs": [
    {
     "data": {
      "text/markdown": [
       "```c++\n",
       "\n",
       "Ciphertext fun(Ciphertext a) {\n",
       "    auto b = -a + 2;\n",
       "    auto c = a - b;\n",
       "\n",
       "    return c;\n",
       "}\n",
       "\n",
       "```"
      ],
      "text/plain": [
       "<IPython.core.display.Markdown object>"
      ]
     },
     "metadata": {},
     "output_type": "display_data"
    }
   ],
   "source": [
    "%%cpp my_cpp_code\n",
    "\n",
    "Ciphertext fun(Ciphertext a) {\n",
    "    auto b = -a + 2;\n",
    "    auto c = a - b;\n",
    "\n",
    "    return c;\n",
    "}"
   ]
  },
  {
   "cell_type": "code",
   "execution_count": 4,
   "id": "db63415d-04b3-444f-affa-c0a0ae730522",
   "metadata": {},
   "outputs": [
    {
     "name": "stdout",
     "output_type": "stream",
     "text": [
      "Full Python code:\n",
      "\n",
      "import compyler as cp\n",
      "program = cp.FheProgram(scheme=\"CKKS\", devices=[1])\n",
      "a = program.add_secret(\"a\", 40)\n",
      "b = -a + 2\n",
      "c = a - b\n",
      "program.cppcompile(c)\n",
      "\n",
      "Wrote JSON to file /home/hoseung/.cache/fhecompiler/test.json\n"
     ]
    }
   ],
   "source": [
    "cpp_loader.compile_cpp(my_cpp_code)"
   ]
  },
  {
   "cell_type": "code",
   "execution_count": null,
   "id": "744493ec",
   "metadata": {},
   "outputs": [],
   "source": []
  }
 ],
 "metadata": {
  "kernelspec": {
   "display_name": "Python 3 (ipykernel)",
   "language": "python",
   "name": "python3"
  },
  "language_info": {
   "codemirror_mode": {
    "name": "ipython",
    "version": 3
   },
   "file_extension": ".py",
   "mimetype": "text/x-python",
   "name": "python",
   "nbconvert_exporter": "python",
   "pygments_lexer": "ipython3",
   "version": "3.12.3"
  }
 },
 "nbformat": 4,
 "nbformat_minor": 5
}
