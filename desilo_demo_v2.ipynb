{
 "cells": [
  {
   "cell_type": "markdown",
   "id": "d71e88a2-953b-47b0-b91e-d128c36fff15",
   "metadata": {},
   "source": [
    "# Q\n",
    "1. List comprehension 같은 것도 지원함?\n",
    "2. 지원하는 모든 명령어를 사용한 복잡한 예제 제공 요청\n",
    "3. +=, *= 등도 지원 필요?\n",
    "4. 다른 방식으로 작성한 C++은? "
   ]
  },
  {
   "cell_type": "code",
   "execution_count": 1,
   "id": "ff08c583-4214-42e9-be78-9cb9852e5ee2",
   "metadata": {},
   "outputs": [],
   "source": [
    "%load_ext autoreload\n",
    "%autoreload 2"
   ]
  },
  {
   "cell_type": "code",
   "execution_count": 2,
   "id": "7d896a20-12cf-4f03-8a9b-a43c09e9ecc3",
   "metadata": {},
   "outputs": [],
   "source": [
    "import compyler as cp\n",
    "from utils import *\n",
    "#from compyler.cipher_node import CipherNode"
   ]
  },
  {
   "cell_type": "code",
   "execution_count": null,
   "id": "7849ef9f-416a-4406-83f8-e2367de080ab",
   "metadata": {},
   "outputs": [],
   "source": []
  },
  {
   "cell_type": "code",
   "execution_count": 23,
   "id": "72c52fa8-cefc-408c-997e-590b8309e848",
   "metadata": {},
   "outputs": [
    {
     "name": "stdout",
     "output_type": "stream",
     "text": [
      "Ciphertext fun(Ciphertext a) {\n",
      "    // Create FHE circuit\n",
      "    auto b = -a + 2;\n",
      "    auto c = a - b;\n",
      "\n",
      "    return c;\n",
      "Full Python code:\n",
      "\n",
      "import compyler as cp\n",
      "program = cp.FheProgram(scheme=\"CKKS\", devices=[1])\n",
      "a = program.add_secret(\"a\", 40)\n",
      "    # Create FHE circuit\n",
      "b = -a + 2\n",
      "c = a - b\n",
      "program.cppcompile(c)\n",
      "\n",
      "Wrote JSON to file /home/hoseung/.cache/fhecompiler/test.json\n"
     ]
    }
   ],
   "source": [
    "cpp_code = load_cpp_fun(\"./source_cpp/example1.cpp\")\n",
    "\n",
    "print(cpp_code)\n",
    "\n",
    "compile_cpp_fun(cpp_code)"
   ]
  },
  {
   "cell_type": "code",
   "execution_count": 24,
   "id": "6ca24f15-831d-498d-9769-2fd160773491",
   "metadata": {},
   "outputs": [
    {
     "name": "stdout",
     "output_type": "stream",
     "text": [
      "Ciphertext fun(Ciphertext a) {\n",
      "    // Create FHE circuit\n",
      "    auto b = -a + 2;\n",
      "    auto c = a;\n",
      "\n",
      "    for (int i = 0; i < 5; ++i) {\n",
      "        c = c * (-c + 2);\n",
      "        b = b * (-c + 2);\n",
      "    }\n",
      "\n",
      "    auto d = b.mean() + c.mean();\n",
      "    return d;\n",
      "Full Python code:\n",
      "\n",
      "import compyler as cp\n",
      "program = cp.FheProgram(scheme=\"CKKS\", devices=[1])\n",
      "a = program.add_secret(\"a\", 40)\n",
      "    # Create FHE circuit\n",
      "b = -a + 2\n",
      "c = a\n",
      "for i in range(0, 5, 1):\n",
      "    c = c * (-c + 2)\n",
      "    b = b * (-c + 2)\n",
      "d = b.mean() + c.mean()\n",
      "program.cppcompile(d)\n",
      "\n",
      "Wrote JSON to file /home/hoseung/.cache/fhecompiler/test.json\n"
     ]
    }
   ],
   "source": [
    "cpp_code = load_cpp_fun(\"./source_cpp/example2.cpp\")\n",
    "\n",
    "print(cpp_code)\n",
    "\n",
    "compile_cpp_fun(cpp_code)"
   ]
  },
  {
   "cell_type": "code",
   "execution_count": null,
   "id": "1784655a-251b-4663-add1-38406800f189",
   "metadata": {},
   "outputs": [],
   "source": [
    "cpp_code = load_cpp_fun(\"./source_cpp/example1.cpp\")"
   ]
  },
  {
   "cell_type": "markdown",
   "id": "ae1c14bf-9ad3-497f-8540-33cb92aeb7fc",
   "metadata": {},
   "source": [
    "### Python version"
   ]
  },
  {
   "cell_type": "code",
   "execution_count": 25,
   "id": "06880184",
   "metadata": {},
   "outputs": [
    {
     "name": "stdout",
     "output_type": "stream",
     "text": [
      "Full Python code:\n",
      "\n",
      "import compyler as cp\n",
      "program = cp.FheProgram(scheme=\"CKKS\", devices=[1])\n",
      "a = program.add_secret(\"a\", 40)\n",
      "b = -a + 2\n",
      "c = a - b\n",
      "program.cppcompile(c)\n",
      "\n",
      "Wrote JSON to file /home/hoseung/.cache/fhecompiler/test.json\n"
     ]
    }
   ],
   "source": [
    "cpp_code = \"\"\"\n",
    "Ciphertext fun(Ciphertext a) {\n",
    "    auto b = -a + 2;\n",
    "    auto c = a - b;\n",
    "\n",
    "    return c;\n",
    "}\n",
    "\"\"\"\n",
    "\n",
    "\n",
    "compile_cpp_fun(cpp_code)"
   ]
  },
  {
   "cell_type": "code",
   "execution_count": 26,
   "id": "e8e40438-63f3-440c-ae7d-2d690719a14b",
   "metadata": {},
   "outputs": [
    {
     "name": "stdout",
     "output_type": "stream",
     "text": [
      "Full Python code:\n",
      "\n",
      "import compyler as cp\n",
      "program = cp.FheProgram(scheme=\"CKKS\", devices=[1])\n",
      "a = program.add_secret(\"a\", 40)\n",
      "    # Create FHE circuit\n",
      "b = -a + 2\n",
      "c = b.var()\n",
      "d = a.mean() - c\n",
      "program.cppcompile(d)\n",
      "\n",
      "Wrote JSON to file /home/hoseung/.cache/fhecompiler/test.json\n"
     ]
    }
   ],
   "source": [
    "cpp_code = \"\"\"\n",
    "Ciphertext fun(Ciphertext a) {\n",
    "    // Create FHE circuit\n",
    "    auto b = -a + 2;\n",
    "    auto c = b.var();\n",
    "    auto d = a.mean() - c;\n",
    "\n",
    "    return d;\n",
    "}\n",
    "\"\"\"\n",
    "\n",
    "compile_cpp_fun(cpp_code)"
   ]
  }
 ],
 "metadata": {
  "kernelspec": {
   "display_name": "Python 3 (ipykernel)",
   "language": "python",
   "name": "python3"
  },
  "language_info": {
   "codemirror_mode": {
    "name": "ipython",
    "version": 3
   },
   "file_extension": ".py",
   "mimetype": "text/x-python",
   "name": "python",
   "nbconvert_exporter": "python",
   "pygments_lexer": "ipython3",
   "version": "3.12.3"
  }
 },
 "nbformat": 4,
 "nbformat_minor": 5
}
