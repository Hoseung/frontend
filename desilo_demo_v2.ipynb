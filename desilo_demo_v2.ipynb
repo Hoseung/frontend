{
 "cells": [
  {
   "cell_type": "markdown",
   "id": "dec1e5f3-044e-4f18-9703-2ae34b25ab44",
   "metadata": {},
   "source": [
    "1. 가장 복잡한 예제 요청\n",
    "2. JSON 전달해서 구동되는지 확인 부탁\n",
    "   다르게 생긴 C++ 코드도 돌아가는지 확인하기 위해서 \n",
    "3. Jupyter notebook에서 C++ 코드용 CELL을 표기하는 특수 함수 만들기\n",
    "4. cp.compile_from_source 기능 추가해서 디사일로에 제안"
   ]
  },
  {
   "cell_type": "code",
   "execution_count": 11,
   "id": "a2010b68-b71a-47a4-b348-9fe9df097166",
   "metadata": {},
   "outputs": [],
   "source": [
    "from compyler import cpp"
   ]
  },
  {
   "cell_type": "code",
   "execution_count": 2,
   "id": "dc3cf582-8f7e-441c-98d0-b170e0fa0008",
   "metadata": {},
   "outputs": [
    {
     "name": "stdout",
     "output_type": "stream",
     "text": [
      "No syntax errors found.\n",
      "Ciphertext fun(Ciphertext a) {\n",
      "    // Create FHE circuit\n",
      "    auto b = -a + 2;\n",
      "    auto c = a - b;\n",
      "\n",
      "    return c;\n",
      "}\n"
     ]
    }
   ],
   "source": [
    "extracted_function = cpp.load_cpp_fun(\"./source_cpp/test1.cpp\", function_name='fun')\n",
    "print(extracted_function)"
   ]
  },
  {
   "cell_type": "code",
   "execution_count": 3,
   "id": "6debd99b-5152-4dd7-a496-0362e3f67cc5",
   "metadata": {},
   "outputs": [
    {
     "name": "stdout",
     "output_type": "stream",
     "text": [
      "3 <SourceLocation file 'temp.cpp', line 2, column 5>: unknown type name 'FheProgram'\n",
      "1 issue(s) found.\n",
      "None\n"
     ]
    }
   ],
   "source": [
    "extracted_function = cpp.load_cpp_fun(\"./source_cpp/test1.cpp\", function_name='main')\n",
    "print(extracted_function)"
   ]
  },
  {
   "cell_type": "code",
   "execution_count": 4,
   "id": "6d30114f-a592-45a6-baec-8da83b959485",
   "metadata": {},
   "outputs": [
    {
     "name": "stdout",
     "output_type": "stream",
     "text": [
      "3 <SourceLocation file 'temp.cpp', line 4, column 19>: expected ';' at end of declaration\n",
      "3 <SourceLocation file 'temp.cpp', line 12, column 12>: use of undeclared identifier 'f'\n",
      "2 issue(s) found.\n",
      "None\n"
     ]
    }
   ],
   "source": [
    "extracted_function = cpp.load_cpp_fun(\"./source_cpp/test1.cpp\", function_name='fun_err')\n",
    "print(extracted_function)"
   ]
  },
  {
   "cell_type": "code",
   "execution_count": 3,
   "id": "2b8e59c8-5780-43ff-a200-669c3a41816a",
   "metadata": {},
   "outputs": [
    {
     "name": "stdout",
     "output_type": "stream",
     "text": [
      "No syntax errors found.\n",
      "Full Python code:\n",
      "\n",
      "import compyler as cp\n",
      "program = cp.FheProgram(scheme=\"CKKS\", devices=[1])\n",
      "a = program.add_secret(\"a\", 40)\n",
      "    # Create FHE circuit\n",
      "b = -a + 2\n",
      "c = a\n",
      "for i in range(0, 5, 1):\n",
      "    c = c * (-c + 2)\n",
      "    b = b * (-c + 2)\n",
      "d = b.mean() + c.mean()\n",
      "program.cppcompile(d)\n",
      "\n",
      "Wrote JSON to file /home/hoseung/.cache/fhecompiler/test.json\n"
     ]
    }
   ],
   "source": [
    "path =\"./source_cpp/example2.cpp\"\n",
    "cpp.compile_cpp(path, function_name='fun')"
   ]
  },
  {
   "cell_type": "code",
   "execution_count": 7,
   "id": "afee3691-1deb-4f80-86d2-18b12e797e62",
   "metadata": {},
   "outputs": [],
   "source": [
    "from IPython.core.magic import register_cell_magic\n",
    "from IPython.display import Markdown, display\n",
    "\n",
    "@register_cell_magic\n",
    "def cpp(line, cell):\n",
    "    # Extract the variable name from the line argument\n",
    "    variable_name = line.strip()\n",
    "    \n",
    "    # Store the C++ code in the specified variable\n",
    "    if variable_name:\n",
    "        globals()[variable_name] = cell\n",
    "    \n",
    "    # Display the code block with C++ syntax highlighting\n",
    "    display(Markdown(f\"```c++\\n{cell}\\n```\"))"
   ]
  },
  {
   "cell_type": "code",
   "execution_count": null,
   "id": "37cacf2a-a69c-47b5-b3b0-7373cf5cf0ed",
   "metadata": {},
   "outputs": [],
   "source": []
  },
  {
   "cell_type": "code",
   "execution_count": 8,
   "id": "3f41ee52-362d-4419-ba4c-038734c3eb0e",
   "metadata": {},
   "outputs": [
    {
     "data": {
      "text/markdown": [
       "```c++\n",
       "Ciphertext fun(Ciphertext a) {\n",
       "    auto b = -a + 2;\n",
       "    auto c = a - b;\n",
       "\n",
       "    return c;\n",
       "}\n",
       "\n",
       "```"
      ],
      "text/plain": [
       "<IPython.core.display.Markdown object>"
      ]
     },
     "metadata": {},
     "output_type": "display_data"
    }
   ],
   "source": [
    "%%cpp my_cpp_code\n",
    "\n",
    "Ciphertext fun(Ciphertext a) {\n",
    "    auto b = -a + 2;\n",
    "    auto c = a - b;\n",
    "\n",
    "    return c;\n",
    "}"
   ]
  },
  {
   "cell_type": "code",
   "execution_count": 9,
   "id": "bbabcb34-1c0c-442c-9435-47996a9a0ad2",
   "metadata": {},
   "outputs": [
    {
     "name": "stdout",
     "output_type": "stream",
     "text": [
      "Ciphertext fun(Ciphertext a) {\n",
      "    auto b = -a + 2;\n",
      "    auto c = a - b;\n",
      "\n",
      "    return c;\n",
      "}\n",
      "\n"
     ]
    }
   ],
   "source": [
    "print(my_cpp_code)"
   ]
  },
  {
   "cell_type": "code",
   "execution_count": 13,
   "id": "db63415d-04b3-444f-affa-c0a0ae730522",
   "metadata": {},
   "outputs": [
    {
     "name": "stdout",
     "output_type": "stream",
     "text": [
      "Full Python code:\n",
      "\n",
      "import compyler as cp\n",
      "program = cp.FheProgram(scheme=\"CKKS\", devices=[1])\n",
      "a = program.add_secret(\"a\", 40)\n",
      "b = -a + 2\n",
      "c = a - b\n",
      "program.cppcompile(c)\n",
      "\n",
      "Wrote JSON to file /home/hoseung/.cache/fhecompiler/test.json\n"
     ]
    }
   ],
   "source": [
    "cpp._compile_cpp_fun(my_cpp_code)"
   ]
  },
  {
   "cell_type": "code",
   "execution_count": 11,
   "id": "1fbf6697-1feb-404f-a7f6-3b95ce6e6c9a",
   "metadata": {},
   "outputs": [
    {
     "ename": "SyntaxError",
     "evalue": "invalid syntax (2237507097.py, line 3)",
     "output_type": "error",
     "traceback": [
      "\u001b[0;36m  Cell \u001b[0;32mIn[11], line 3\u001b[0;36m\u001b[0m\n\u001b[0;31m    Ciphertext fun(Ciphertext a) {\u001b[0m\n\u001b[0m               ^\u001b[0m\n\u001b[0;31mSyntaxError\u001b[0m\u001b[0;31m:\u001b[0m invalid syntax\n"
     ]
    }
   ],
   "source": [
    "!cpp\n",
    "\n",
    "Ciphertext fun(Ciphertext a) {\n",
    "    // Create FHE circuit\n",
    "    auto b = -a + 2;\n",
    "    auto c = b.var();\n",
    "    auto d = a.mean() - c;\n",
    "\n",
    "    return d;\n",
    "}"
   ]
  },
  {
   "cell_type": "code",
   "execution_count": null,
   "id": "50e76ce0-30e7-4cc9-8c78-a37405cc0459",
   "metadata": {},
   "outputs": [],
   "source": []
  },
  {
   "cell_type": "code",
   "execution_count": null,
   "id": "72541729-52a6-496d-95dc-2cf937447ec1",
   "metadata": {},
   "outputs": [],
   "source": [
    "Xeus.Clang\n",
    "-> C++ Only Session \n",
    "\n",
    "X \n",
    "\n",
    "특정 cell이 C++ 용으로, 동작(안)하게 "
   ]
  },
  {
   "cell_type": "code",
   "execution_count": null,
   "id": "3f3ba40c-5dd9-440c-9187-f323a0c9f76f",
   "metadata": {},
   "outputs": [],
   "source": []
  }
 ],
 "metadata": {
  "kernelspec": {
   "display_name": "Python 3 (ipykernel)",
   "language": "python",
   "name": "python3"
  },
  "language_info": {
   "codemirror_mode": {
    "name": "ipython",
    "version": 3
   },
   "file_extension": ".py",
   "mimetype": "text/x-python",
   "name": "python",
   "nbconvert_exporter": "python",
   "pygments_lexer": "ipython3",
   "version": "3.12.3"
  }
 },
 "nbformat": 4,
 "nbformat_minor": 5
}
