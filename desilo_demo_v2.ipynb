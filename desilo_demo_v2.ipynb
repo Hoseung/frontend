{
 "cells": [
  {
   "cell_type": "code",
   "execution_count": 1,
   "id": "9d01c57c-b756-4a5f-b269-455e77b8840a",
   "metadata": {},
   "outputs": [],
   "source": [
    "import compyler as cp\n",
    "\n",
    "# Create a FHE program object\n",
    "program = cp.FheProgram(scheme=\"CKKS\", devices=[1]) # FheProgram 여기부터 plan.py의 FheProgram Class를 부르는것부터 시작임. \n"
   ]
  },
  {
   "cell_type": "code",
   "execution_count": 2,
   "id": "191dac9e",
   "metadata": {},
   "outputs": [
    {
     "name": "stdout",
     "output_type": "stream",
     "text": [
      "Wrote JSON to file /home/hoseung/.cache/fhecompiler/test.json\n"
     ]
    }
   ],
   "source": [
    "#program = cp.FheProgram(scheme=\"CKKS\", devices=[1])\n",
    "a = program.add_secret(\"a\", 40)\n",
    "b = -a + 2\n",
    "c = a - b\n",
    "program.cppcompile(c)"
   ]
  },
  {
   "cell_type": "code",
   "execution_count": 12,
   "id": "1f6083f2",
   "metadata": {},
   "outputs": [],
   "source": [
    "\n",
    "# Add secret variables. This is a ciphernode.\n",
    "a = program.add_secret(\"a\", 40) \n"
   ]
  },
  {
   "cell_type": "code",
   "execution_count": null,
   "id": "9c942a28",
   "metadata": {},
   "outputs": [],
   "source": [
    "# Create a FHE circuit\n",
    "b = -a + 2\n",
    "cpp_code=\"\"\"\n",
    "Ciphertext fun(Ciphertext a) {\n",
    "    // Create FHE circuit\n",
    "    auto b = -a + 2;\n",
    "    auto c = a - b;\n",
    "\n",
    "    return b;\n",
    "}\"\"\"\n",
    "\n",
    "## auto, ;, // 삭제. \n",
    "# {}는 분석 후에 삭제. \n",
    "# Ciphertext a -> add_secret(\"a\", 40)로 대체.\n",
    "# scale = 40이라는 정보를 C++ 스럽게 집어넣을 방법이 없음. \n",
    "# return b; -> program.cppcompile(b)로 대체.\n",
    "\n",
    "# 비정상적인 CPP 코드일 경우 에러 나와야 하므로, 제대로 된 CPP 파서로 체크 필요. \n"
   ]
  },
  {
   "cell_type": "code",
   "execution_count": 14,
   "id": "16208c4a",
   "metadata": {},
   "outputs": [
    {
     "name": "stdout",
     "output_type": "stream",
     "text": [
      "Wrote JSON to file /home/hoseung/.cache/fhecompiler/test.json\n"
     ]
    }
   ],
   "source": [
    "\n",
    "program.cppcompile(b)\n"
   ]
  },
  {
   "cell_type": "code",
   "execution_count": 2,
   "id": "3738ccce",
   "metadata": {},
   "outputs": [],
   "source": [
    "from compyler.cipher_node import CipherNode"
   ]
  },
  {
   "cell_type": "code",
   "execution_count": null,
   "id": "c853f17b",
   "metadata": {},
   "outputs": [],
   "source": [
    "\n",
    "cpp_code = \"\"\"\n",
    "Ciphertext a;\n",
    "auto b = -a + 2;\n",
    "\"\"\"\n",
    "\n",
    "vars = parse_cpp_code(cpp_code)\n",
    "print(vars)"
   ]
  },
  {
   "cell_type": "code",
   "execution_count": null,
   "id": "ea28ba21",
   "metadata": {},
   "outputs": [],
   "source": []
  },
  {
   "cell_type": "code",
   "execution_count": 3,
   "id": "9e04e8b2",
   "metadata": {},
   "outputs": [
    {
     "name": "stdout",
     "output_type": "stream",
     "text": [
      "Full Python code:\n",
      "\n",
      "program = cp.FheProgram(scheme=\"CKKS\", devices=[1])\n",
      "a = program.add_secret(\"a\", 40)\n",
      "b = -a + 2\n",
      "c = a - b\n",
      "program.cppcompile(c)\n",
      "\n",
      "Wrote JSON to file /home/hoseung/.cache/fhecompiler/test.json\n"
     ]
    }
   ],
   "source": [
    "cpp_code = \"\"\"\n",
    "Ciphertext fun(Ciphertext a) {\n",
    "    // Create FHE circuit\n",
    "    auto b = -a + 2;\n",
    "    auto c = a - b;\n",
    "\n",
    "    return c;\n",
    "}\n",
    "\"\"\"\n",
    "\n",
    "# Function to parse and translate C++ code to Python\n",
    "def cpp_to_python(cpp_code):\n",
    "    cpp_lines = cpp_code.strip().splitlines()\n",
    "    python_code = \"\"\n",
    "\n",
    "    for line in cpp_lines:\n",
    "        line = line.strip()\n",
    "        if line.startswith(\"Ciphertext fun(\"):\n",
    "            # Translate function declaration to adding secret\n",
    "            func_signature = line.split(\"(\")[1].split(\")\")[0].strip()\n",
    "            var_name = func_signature.split()[1]\n",
    "            python_code += f'a = program.add_secret(\"{var_name}\", 40)\\n'\n",
    "        elif line.startswith(\"auto \"):\n",
    "            # Translate auto assignment to Python\n",
    "            var_name, expression = line[5:].split(\" = \")\n",
    "            expression = expression.strip()[:-1]  # Remove the semicolon\n",
    "            python_code += f\"{var_name.strip()} = {expression}\\n\"\n",
    "        elif line.startswith(\"return \"):\n",
    "            # Translate return statement to program.cppcompile\n",
    "            return_var = line.split()[1][:-1]  # Get the variable name, remove semicolon\n",
    "            python_code += f\"program.cppcompile({return_var})\\n\"\n",
    "\n",
    "    return python_code\n",
    "\n",
    "# Convert the C++ code to Python\n",
    "python_code = cpp_to_python(cpp_code)\n",
    "\n",
    "# Add the Program initialization\n",
    "full_python_code = \"\"\"\n",
    "program = cp.FheProgram(scheme=\"CKKS\", devices=[1])\n",
    "\"\"\" + python_code\n",
    "\n",
    "# Print the full Python code to check\n",
    "print(\"Full Python code:\")\n",
    "print(full_python_code)\n",
    "\n",
    "# Create a dictionary to capture the local variables\n",
    "local_vars = {}\n",
    "\n",
    "# Execute the full Python code with the local_vars dictionary\n",
    "exec(full_python_code)#, {}, local_vars)"
   ]
  },
  {
   "cell_type": "code",
   "execution_count": null,
   "id": "06880184",
   "metadata": {},
   "outputs": [],
   "source": []
  },
  {
   "cell_type": "code",
   "execution_count": null,
   "id": "08a2a1dc",
   "metadata": {},
   "outputs": [],
   "source": []
  },
  {
   "cell_type": "code",
   "execution_count": 15,
   "id": "bc969963",
   "metadata": {},
   "outputs": [
    {
     "name": "stdout",
     "output_type": "stream",
     "text": [
      "Converted Python code:\n",
      "\n",
      "program = cp.FheProgram(scheme=\"CKKS\", devices=[1])\n",
      "a = program.add_secret(\"a\", 40) \n",
      "b = -a + 2\n",
      "\n",
      "program.cppcompile(b)\n",
      "\n",
      "Wrote JSON to file /home/hoseung/.cache/fhecompiler/test.json\n"
     ]
    }
   ],
   "source": [
    "def cpp_to_python(cpp_code):\n",
    "    # Split the code into lines and initialize an empty string for Python code\n",
    "    cpp_lines = cpp_code.strip().splitlines()\n",
    "    python_code = \"\"\n",
    "    \n",
    "    for line in cpp_lines:\n",
    "        line = line.strip()\n",
    "        if line.startswith(\"Ciphertext \"):\n",
    "            # Translate variable declaration to Python with arguments\n",
    "            var_name = line.split()[1][:-1]  # Remove the semicolon\n",
    "            python_code += f'{var_name} = CipherNode(\"{var_name}\", 40)\\n'\n",
    "        elif line.startswith(\"auto \"):\n",
    "            # Translate auto assignment to Python\n",
    "            var_name, expression = line[5:].split(\" = \")\n",
    "            expression = expression.strip()[:-1]  # Remove the semicolon\n",
    "            expression = expression.replace(\"a\", \"a\")  # Directly mapping for simplicity\n",
    "            python_code += f\"{var_name} = {expression}\\n\"\n",
    "    \n",
    "    return python_code\n",
    "\n",
    "\n",
    "partial_code = \"\"\"\n",
    "auto b = -a + 2;\"\"\"\n",
    "\n",
    "# Convert the C++ code to Python\n",
    "python_code = cpp_to_python(partial_code)\n",
    "\n",
    "code_to_run = \"\"\"\n",
    "program = cp.FheProgram(scheme=\"CKKS\", devices=[1])\n",
    "a = program.add_secret(\"a\", 40) \n",
    "\"\"\"+python_code+\"\"\"\n",
    "program.cppcompile(b)\n",
    "\"\"\"\n",
    "# Print the converted Python code\n",
    "print(\"Converted Python code:\")\n",
    "print(code_to_run)\n",
    "\n",
    "# Execute the Python code\n",
    "exec(code_to_run)"
   ]
  },
  {
   "cell_type": "code",
   "execution_count": 3,
   "id": "ca775c9e",
   "metadata": {},
   "outputs": [],
   "source": [
    "import networkx as nx\n",
    "from networkx.readwrite import json_graph\n",
    "import json\n",
    "\n",
    "\n",
    "def node2dict(node):\n",
    "    fields = dict(vars(node))\n",
    "    fields.pop(\"children\")\n",
    "    fields.pop(\"parents\")\n",
    "    return fields\n",
    "\n",
    "\n",
    "def node2nxgraph(root):\n",
    "    nodenum = 1\n",
    "    node2num = {root: nodenum}\n",
    "    rootdict = node2dict(root)\n",
    "    rootdict[\"type\"] = str(type(root))\n",
    "    rootdict[\"root\"] = True\n",
    "\n",
    "    G = nx.DiGraph() # directed graph\n",
    "    G.add_node(node2num[root], **rootdict)\n",
    "\n",
    "    # adding nodes\n",
    "    for par in root.traverse_parents(False):\n",
    "        nodenum += 1\n",
    "        node2num[par] = nodenum\n",
    "        nodedict = node2dict(par)\n",
    "        nodedict[\"root\"] = False\n",
    "        nodedict[\"type\"] = str(type(par))\n",
    "        G.add_node(node2num[par], **nodedict)\n",
    "\n",
    "    # adding edges\n",
    "    for par in root.traverse_parents(True):\n",
    "        for child in par.children:\n",
    "            if not G.has_edge(node2num[child], node2num[par]):\n",
    "                G.add_edge(node2num[child], node2num[par])\n",
    "                \n",
    "    return G\n",
    "\n",
    "\n",
    "def write2file(node):\n",
    "    G = node2nxgraph(node)\n",
    "    data = json_graph.node_link_data(G)\n",
    "    data[\"topsort\"] = list(nx.topological_sort(G))\n",
    "    n = len(data[\"topsort\"])\n",
    "    #temp_filename = tempfile.mktemp()\n",
    "    import os\n",
    "    from pathlib import Path\n",
    "    dest_dir = Path(os.environ['HOME']) / '.cache' / 'fhecompiler'\n",
    "    dest_dir.mkdir(parents=True, exist_ok=True)\n",
    "    temp_filename = dest_dir / \"test.json\"\n",
    "    serialized_data = json.dumps(data, indent=2, default=lambda o: o.__dict__)\n",
    "    with open(temp_filename, \"w\") as file:\n",
    "        file.write(serialized_data)\n",
    "    return temp_filename\n"
   ]
  },
  {
   "cell_type": "code",
   "execution_count": 4,
   "id": "f05efb7e",
   "metadata": {},
   "outputs": [],
   "source": [
    "#from compyler.json_serialization import write2file\n",
    "\n",
    "#original_graph = deepcopy(node) ## temporary thing for plain_compute\n",
    "node = b\n",
    "path = write2file(node)"
   ]
  }
 ],
 "metadata": {
  "kernelspec": {
   "display_name": "Python 3 (ipykernel)",
   "language": "python",
   "name": "python3"
  },
  "language_info": {
   "codemirror_mode": {
    "name": "ipython",
    "version": 3
   },
   "file_extension": ".py",
   "mimetype": "text/x-python",
   "name": "python",
   "nbconvert_exporter": "python",
   "pygments_lexer": "ipython3",
   "version": "3.12.3"
  }
 },
 "nbformat": 4,
 "nbformat_minor": 5
}
