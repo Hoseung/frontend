{
 "cells": [
  {
   "cell_type": "code",
   "execution_count": 1,
   "id": "56e29d55-af98-4a1a-bd24-2c11dbe369de",
   "metadata": {},
   "outputs": [],
   "source": [
    "%load_ext autoreload\n",
    "%autoreload 2"
   ]
  },
  {
   "cell_type": "code",
   "execution_count": 2,
   "id": "b1eaf4e1-d2cf-48b8-b597-cfe3fc5216bb",
   "metadata": {},
   "outputs": [],
   "source": [
    "import clang.cindex\n",
    "from parser.parser import *"
   ]
  },
  {
   "cell_type": "code",
   "execution_count": 3,
   "id": "1132362a-34b3-4792-b505-0913561c8f90",
   "metadata": {},
   "outputs": [],
   "source": [
    "fn_cpp = \"source_cpp/example1.cpp\""
   ]
  },
  {
   "cell_type": "code",
   "execution_count": 5,
   "id": "8ee39ff4-f098-481a-91d3-661cef46d64c",
   "metadata": {},
   "outputs": [
    {
     "name": "stdout",
     "output_type": "stream",
     "text": [
      "Found ciphertext reference\n",
      "  CursorKind.UNEXPOSED_EXPR CipherNode\n",
      "CursorKind.TRANSLATION_UNIT source_cpp/example1.cpp [<SourceLocation file None, line 0, column 0>]\n",
      "Found ciphertext reference\n",
      "Found ciphertext reference\n",
      "    CursorKind.UNEXPOSED_EXPR CipherNode\n",
      "  CursorKind.FUNCTION_DECL fun : FunctionProto [<SourceLocation file 'source_cpp/example1.cpp', line 1, column 12>]\n",
      "Found ciphertext reference\n",
      "      CursorKind.UNEXPOSED_EXPR CipherNode\n",
      "    CursorKind.PARM_DECL a : Int [<SourceLocation file 'source_cpp/example1.cpp', line 1, column 27>]\n",
      "    CursorKind.COMPOUND_STMT  [<SourceLocation file 'source_cpp/example1.cpp', line 1, column 30>]\n",
      "      CursorKind.DECL_STMT  [<SourceLocation file 'source_cpp/example1.cpp', line 3, column 5>]\n",
      "        CursorKind.VAR_DECL b : Auto [<SourceLocation file 'source_cpp/example1.cpp', line 3, column 10>]\n",
      "          CursorKind.BINARY_OPERATOR  : Dependent (Operator: -a+2) [<SourceLocation file 'source_cpp/example1.cpp', line 3, column 14>]\n",
      "            CursorKind.UNARY_OPERATOR  : Dependent (Operator: -a) [<SourceLocation file 'source_cpp/example1.cpp', line 3, column 14>]\n",
      "              CursorKind.UNEXPOSED_EXPR  : Dependent [<SourceLocation file 'source_cpp/example1.cpp', line 3, column 15>]\n",
      "            CursorKind.INTEGER_LITERAL  : Int [<SourceLocation file 'source_cpp/example1.cpp', line 3, column 19>]\n",
      "      CursorKind.DECL_STMT  [<SourceLocation file 'source_cpp/example1.cpp', line 4, column 5>]\n",
      "        CursorKind.VAR_DECL c : Auto [<SourceLocation file 'source_cpp/example1.cpp', line 4, column 10>]\n",
      "          CursorKind.BINARY_OPERATOR  : Dependent (Operator: a-b) [<SourceLocation file 'source_cpp/example1.cpp', line 4, column 14>]\n",
      "            CursorKind.UNEXPOSED_EXPR  : Dependent [<SourceLocation file 'source_cpp/example1.cpp', line 4, column 14>]\n",
      "            CursorKind.UNEXPOSED_EXPR  : Dependent [<SourceLocation file 'source_cpp/example1.cpp', line 4, column 18>]\n",
      "      CursorKind.RETURN_STMT  [<SourceLocation file 'source_cpp/example1.cpp', line 6, column 5>]\n",
      "        CursorKind.UNEXPOSED_EXPR  : Dependent [<SourceLocation file 'source_cpp/example1.cpp', line 6, column 12>]\n"
     ]
    }
   ],
   "source": [
    "# 1. Operator 정보 전체 출력으로 수정\n",
    "# 2. Node가 제대로 바뀐게 맞나? get_Children으로 확인. \n",
    "\n",
    "tu = parse_code_snippet(fn_cpp, loc=True)"
   ]
  },
  {
   "cell_type": "code",
   "execution_count": 17,
   "id": "dd590ddc-e614-42e7-90f3-d132abcdeef9",
   "metadata": {},
   "outputs": [
    {
     "name": "stdout",
     "output_type": "stream",
     "text": [
      "CursorKind.TRANSLATION_UNIT source_cpp/example1.cpp\n",
      "  CursorKind.FUNCTION_DECL fun : FunctionProto\n",
      "    CursorKind.PARM_DECL a : Int\n",
      "    CursorKind.COMPOUND_STMT \n",
      "      CursorKind.DECL_STMT \n",
      "        CursorKind.VAR_DECL b : Auto\n",
      "          CursorKind.BINARY_OPERATOR  : Dependent (Operator: -)\n",
      "            CursorKind.UNARY_OPERATOR  : Dependent (Operator: -)\n",
      "              CursorKind.UNEXPOSED_EXPR  : Dependent\n",
      "            CursorKind.INTEGER_LITERAL  : Int\n",
      "      CursorKind.DECL_STMT \n",
      "        CursorKind.VAR_DECL c : Auto\n",
      "          CursorKind.BINARY_OPERATOR  : Dependent (Operator: a)\n",
      "            CursorKind.UNEXPOSED_EXPR  : Dependent\n",
      "            CursorKind.UNEXPOSED_EXPR  : Dependent\n",
      "      CursorKind.RETURN_STMT \n",
      "        CursorKind.UNEXPOSED_EXPR  : Dependent\n"
     ]
    }
   ],
   "source": [
    "tu = parse_code_snippet(fn_cpp, loc=False, ignore_main=True)"
   ]
  },
  {
   "cell_type": "markdown",
   "id": "2903fabf-050c-4107-bc02-9627e74be65e",
   "metadata": {},
   "source": [
    "1. PlainNode와 CipherNode를 판별\n",
    "- CipherNode이거나, CipherNode와 binary operator에 참여하는 경우\n",
    "- if child.kind == clang.cindex.CursorKind.BINARY_OPERATOR:\n",
    "- - for _ in child.get_tokens():\n",
    "  -     if _.spelling == \"a\":\n",
    "  -         return True\n",
    "\n",
    "    여기에다가 CipherNode를 추가하나? 아님 CipherNode로 바꾸나?\n",
    "    Desilo AST에서 CipherNode의 역할은 무엇인가?\n",
    "\n",
    "- 이 둘에게는 Params{} 특성 부여\n",
    "- PlainNode는 params가 모두 null\n",
    "- - \"params\": {\n",
    "\t\t\t  \"scale\": null,\n",
    "\t\t\t  \"min_scale\": null,\n",
    "\t\t\t  \"level\": null\n",
    "\t\t\t},\n",
    "- - CipherNode는 params 값을 어디서 받아오지...?    -> Main function에서 설정하는 단계가 있고, 거기서 받아오는 메커니즘 필요함.\n",
    "\n",
    "## Meeting\n",
    "`a = program.add_secret(\"a\", 40)` 여기서 scale 정보 추가해줌. Level 정보는 기본이 1000인데 의미 없음. (사용하지 않음) \n",
    "isexecuted: 사용하지 않음 \n",
    "JSON에서 어떤 변수가 Ciphertext인지, Plaintext인지도 굳이 따지지 않음. 사실상 토큰을 JSON으로 변환하는 것에 가까움. \n",
    "\n",
    "demo2  \n",
    "for i in range(5):  \n",
    "에서, 루프 푸는 것도 nxGraph툴이 하는 것 같음. \n",
    "5가 아니라 변수가 들어가는 상황은 지원하지 않음.   \n",
    "\n",
    "if 문도 지원하지 않음.  \n",
    "\n",
    "\n",
    "\n",
    "2. Unary Operation인 negation 먼저 처리\n",
    "- Negation 판별\n",
    "- CursorKind.UNARY_OPERATOR  : Dependent (Operator: -a) 에서..\n",
    "- - `if clang.cindex.CursorKind.UNARY_OPERATOR and operator == \"-\"`\n",
    " \n",
    "3. Binary Operator 처리\n",
    "- Addition : `if clang.cindex.CursorKind.BINARY_OPERATOR and operator == \"+\"`\n",
    "- Multiplication : `if clang.cindex.CursorKind.BINARY_OPERATOR and operator == \"*\"`\n",
    "- Subtraction : `if clang.cindex.CursorKind.BINARY_OPERATOR and operator == \"-\"`"
   ]
  },
  {
   "cell_type": "markdown",
   "id": "99ace40f-c710-4249-8876-54942f824fa4",
   "metadata": {},
   "source": [
    "CursorKind.DECL_STMT  (\n",
    "  CursorKind.VAR_DECL b : Auto\n",
    "\n",
    "-> b = "
   ]
  },
  {
   "cell_type": "code",
   "execution_count": 9,
   "id": "d5f84100-7798-42a8-a7f4-5f32c4fa05b1",
   "metadata": {},
   "outputs": [
    {
     "name": "stdout",
     "output_type": "stream",
     "text": [
      "<clang.cindex.Cursor object at 0x7af3477c1dd0>\n",
      "<clang.cindex.Cursor object at 0x7af3477c1750>\n"
     ]
    }
   ],
   "source": [
    "for ch in tu.cursor.get_children():\n",
    "    print(ch)"
   ]
  },
  {
   "cell_type": "code",
   "execution_count": null,
   "id": "7357afea-e7bd-4ecc-b80b-a9dcd6e932f4",
   "metadata": {},
   "outputs": [],
   "source": [
    "# get_children -> list_iterator"
   ]
  },
  {
   "cell_type": "code",
   "execution_count": 11,
   "id": "86e5c651-68e3-4ffa-81dd-b3da02e073b9",
   "metadata": {},
   "outputs": [],
   "source": [
    "ch2 = ch.get_children()"
   ]
  },
  {
   "cell_type": "code",
   "execution_count": 12,
   "id": "fd1f4cd6-32e1-4ff4-80fd-98961241341c",
   "metadata": {},
   "outputs": [
    {
     "data": {
      "text/plain": [
       "<list_iterator at 0x7af35c72ffa0>"
      ]
     },
     "execution_count": 12,
     "metadata": {},
     "output_type": "execute_result"
    }
   ],
   "source": [
    "ch2"
   ]
  },
  {
   "cell_type": "code",
   "execution_count": null,
   "id": "ca399203-75fa-46e6-bd77-a5be8dc0c5ba",
   "metadata": {},
   "outputs": [],
   "source": []
  }
 ],
 "metadata": {
  "kernelspec": {
   "display_name": "Python 3 (ipykernel)",
   "language": "python",
   "name": "python3"
  },
  "language_info": {
   "codemirror_mode": {
    "name": "ipython",
    "version": 3
   },
   "file_extension": ".py",
   "mimetype": "text/x-python",
   "name": "python",
   "nbconvert_exporter": "python",
   "pygments_lexer": "ipython3",
   "version": "3.12.3"
  }
 },
 "nbformat": 4,
 "nbformat_minor": 5
}
